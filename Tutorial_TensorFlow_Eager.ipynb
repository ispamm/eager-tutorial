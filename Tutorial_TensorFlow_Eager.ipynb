{
  "nbformat": 4,
  "nbformat_minor": 0,
  "metadata": {
    "colab": {
      "name": "Tutorial TensorFlow Eager.ipynb",
      "version": "0.3.2",
      "views": {},
      "default_view": {},
      "provenance": [],
      "collapsed_sections": []
    },
    "kernelspec": {
      "name": "python3",
      "display_name": "Python 3"
    },
    "accelerator": "GPU"
  },
  "cells": [
    {
      "metadata": {
        "id": "FzI7Rr_sK8lN",
        "colab_type": "text"
      },
      "cell_type": "markdown",
      "source": [
        "This notebook introduces the **eager execution** for TensorFlow, a novel low-level API allowing for a more dynamic programming flow. Eager greatly simplifies how you can write and debug models, softening the complete separation between the *definition* of a graph and its *execution* in the standard TensorFlow API."
      ]
    },
    {
      "metadata": {
        "id": "JQPc5c66LBJf",
        "colab_type": "text"
      },
      "cell_type": "markdown",
      "source": [
        "## Table of contents:"
      ]
    },
    {
      "metadata": {
        "id": "zi6BJup8sKQy",
        "colab_type": "toc"
      },
      "cell_type": "markdown",
      "source": [
        ">[Static and dynamic graph computation](#scrollTo=JOX81EBYEfJ6)\n",
        "\n",
        ">[Enabling eager execution](#scrollTo=qAFSauM9nKwN)\n",
        "\n",
        ">>[Additional: experimenting with eager functionalities in the nightly branch](#scrollTo=kBNAHEBU9Uvj)\n",
        "\n",
        ">[A neural network with eager execution](#scrollTo=5P0ToXGupvlu)\n",
        "\n",
        ">>[Loading data](#scrollTo=tSheSH8ArO4N)\n",
        "\n",
        ">>[Variables and gradients in TFE](#scrollTo=8azE_xwVr4ak)\n",
        "\n",
        ">>>[Eager variables and NumPy compatibility](#scrollTo=2lkQTVjyiHN-)\n",
        "\n",
        ">>>[Computing gradients in TF Eager](#scrollTo=VtfqaWPyiLJG)\n",
        "\n",
        ">>[Defining models using layers](#scrollTo=MZL5tCFWPaat)\n",
        "\n",
        ">>[Handling the input pipeline](#scrollTo=kfB5YWC2xnus)\n",
        "\n",
        ">>[Gradients' computation and model's optimization](#scrollTo=ehLIBkN23ltL)\n",
        "\n",
        ">>[Evaluating the model and plotting the results](#scrollTo=XecSJK4r9PD1)\n",
        "\n",
        ">>>[Computing and visualizing metrics](#scrollTo=5ix3nr8wqglP)\n",
        "\n",
        ">>>[Saving summaries on disk and working with the TensorBoard](#scrollTo=jlZIDj8VqjRz)\n",
        "\n",
        ">[Advanced features](#scrollTo=C9PxnV3x_EJo)\n",
        "\n",
        ">>[Enabling GPU execution](#scrollTo=rdTN7c_k_GsN)\n",
        "\n",
        ">>[Saving and reloading](#scrollTo=b_I-_yQnB_Cw)\n",
        "\n",
        ">[Final remarks](#scrollTo=fVtZn99KDDSG)\n",
        "\n"
      ]
    },
    {
      "metadata": {
        "id": "JOX81EBYEfJ6",
        "colab_type": "text"
      },
      "cell_type": "markdown",
      "source": [
        "# Static and dynamic graph computation"
      ]
    },
    {
      "metadata": {
        "id": "ZX1Ad2mcEsE4",
        "colab_type": "text"
      },
      "cell_type": "markdown",
      "source": [
        "To understand the need for Eager, consider a simple example:"
      ]
    },
    {
      "metadata": {
        "id": "bOZtwTAcEbHc",
        "colab_type": "code",
        "colab": {
          "autoexec": {
            "startup": false,
            "wait_interval": 0
          },
          "output_extras": [
            {
              "item_id": 1
            }
          ],
          "base_uri": "https://localhost:8080/",
          "height": 34
        },
        "outputId": "f3233af2-d9eb-4642-a6f9-ff3473b2b515",
        "executionInfo": {
          "status": "ok",
          "timestamp": 1518183048382,
          "user_tz": -60,
          "elapsed": 1133,
          "user": {
            "displayName": "Simone Scardapane",
            "photoUrl": "//lh6.googleusercontent.com/-ZK0nd0iCe7w/AAAAAAAAAAI/AAAAAAAAA_o/pNhWxdOsGTI/s50-c-k-no/photo.jpg",
            "userId": "115632300554726808471"
          }
        }
      },
      "cell_type": "code",
      "source": [
        "import tensorflow as tf\n",
        "a = tf.constant(3.0)\n",
        "b = a + 2.0\n",
        "print(b)"
      ],
      "execution_count": 1,
      "outputs": [
        {
          "output_type": "stream",
          "text": [
            "Tensor(\"add:0\", shape=(), dtype=float32)\n"
          ],
          "name": "stdout"
        }
      ]
    },
    {
      "metadata": {
        "id": "lQatWScWHiNh",
        "colab_type": "text"
      },
      "cell_type": "markdown",
      "source": [
        "If you never played with the low-level components of TensorFlow before, you probably would have expected the print operation to show the value of `b` at this point. Instead, we have to fetch the value of the variable by running the operation inside a `Session` object:\n",
        "\n"
      ]
    },
    {
      "metadata": {
        "id": "rwhQ5L1zGi17",
        "colab_type": "code",
        "colab": {
          "autoexec": {
            "startup": false,
            "wait_interval": 0
          },
          "output_extras": [
            {
              "item_id": 1
            }
          ],
          "base_uri": "https://localhost:8080/",
          "height": 34
        },
        "outputId": "6a171fd3-a8bc-492a-a7eb-30d8e6750869",
        "executionInfo": {
          "status": "ok",
          "timestamp": 1518184078599,
          "user_tz": -60,
          "elapsed": 479,
          "user": {
            "displayName": "Simone Scardapane",
            "photoUrl": "//lh6.googleusercontent.com/-ZK0nd0iCe7w/AAAAAAAAAAI/AAAAAAAAA_o/pNhWxdOsGTI/s50-c-k-no/photo.jpg",
            "userId": "115632300554726808471"
          }
        }
      },
      "cell_type": "code",
      "source": [
        "sess = tf.Session()\n",
        "with sess.as_default():\n",
        "  print(sess.run(b))"
      ],
      "execution_count": 6,
      "outputs": [
        {
          "output_type": "stream",
          "text": [
            "5.0\n"
          ],
          "name": "stdout"
        }
      ]
    },
    {
      "metadata": {
        "id": "zr-L0vKiIoz-",
        "colab_type": "text"
      },
      "cell_type": "markdown",
      "source": [
        "Now, let's keep exploring and add some intermediate computations:"
      ]
    },
    {
      "metadata": {
        "id": "Bre_99c5HdaS",
        "colab_type": "code",
        "colab": {
          "autoexec": {
            "startup": false,
            "wait_interval": 0
          },
          "output_extras": [
            {
              "item_id": 1
            }
          ],
          "base_uri": "https://localhost:8080/",
          "height": 34
        },
        "outputId": "1dfbb6e2-c280-4269-d8c9-5e116fbd5764",
        "executionInfo": {
          "status": "ok",
          "timestamp": 1518184104452,
          "user_tz": -60,
          "elapsed": 519,
          "user": {
            "displayName": "Simone Scardapane",
            "photoUrl": "//lh6.googleusercontent.com/-ZK0nd0iCe7w/AAAAAAAAAAI/AAAAAAAAA_o/pNhWxdOsGTI/s50-c-k-no/photo.jpg",
            "userId": "115632300554726808471"
          }
        }
      },
      "cell_type": "code",
      "source": [
        "with tf.Session() as sess:\n",
        "    c = sess.run(1.5*b)\n",
        "print(b)"
      ],
      "execution_count": 7,
      "outputs": [
        {
          "output_type": "stream",
          "text": [
            "Tensor(\"add:0\", shape=(), dtype=float32)\n"
          ],
          "name": "stdout"
        }
      ]
    },
    {
      "metadata": {
        "id": "2dx72nlWI6HA",
        "colab_type": "text"
      },
      "cell_type": "markdown",
      "source": [
        "Once again, you might have expected to obtain the value of ```b```, since it was clearly computed to obtain ```c```. While there are several methods to get it (such as calling its ```eval``` method), none of them is as satisfying as writing pure NumPy code, and none of them lends itself to an immediate debug using a visual editor. \n",
        "\n",
        "Now consider the same code written with the novel [eager execution](https://github.com/tensorflow/tensorflow/tree/master/tensorflow/contrib/eager) enabled:\n",
        "\n",
        "```python\n",
        "a = tf.constant(3.0)\n",
        "b = a + 2.0\n",
        "print(b) # print tf.Tensor(5.0, shape=(), dtype=float32)\n",
        "```\n",
        "\n",
        "We can now get the value immediately! With eager execution enabled, definition and execution are tied, with one lazily following the other automatically. Let us see how to enable it before moving on to more interesting examples."
      ]
    },
    {
      "metadata": {
        "id": "qAFSauM9nKwN",
        "colab_type": "text"
      },
      "cell_type": "markdown",
      "source": [
        "# Enabling eager execution"
      ]
    },
    {
      "metadata": {
        "id": "ysEhDOAdncOI",
        "colab_type": "text"
      },
      "cell_type": "markdown",
      "source": [
        "In order to enable eager execution, we need to install the latest version of TensorFlow (v1.5 as of this writing). To upgrade from terminal (replace **tensorflow** with **tensorflow-gpu** for the version with GPU support):"
      ]
    },
    {
      "metadata": {
        "id": "2eEUo9EjjhzW",
        "colab_type": "code",
        "colab": {
          "autoexec": {
            "startup": false,
            "wait_interval": 0
          },
          "output_extras": [
            {
              "item_id": 5
            }
          ],
          "base_uri": "https://localhost:8080/",
          "height": 309
        },
        "outputId": "7875700c-6986-42bb-b700-dbb92497d143",
        "executionInfo": {
          "status": "ok",
          "timestamp": 1519219266949,
          "user_tz": -60,
          "elapsed": 3103,
          "user": {
            "displayName": "Simone Scardapane",
            "photoUrl": "//lh6.googleusercontent.com/-ZK0nd0iCe7w/AAAAAAAAAAI/AAAAAAAAA_o/pNhWxdOsGTI/s50-c-k-no/photo.jpg",
            "userId": "115632300554726808471"
          }
        }
      },
      "cell_type": "code",
      "source": [
        "!pip install tensorflow --upgrade"
      ],
      "execution_count": 1,
      "outputs": [
        {
          "output_type": "stream",
          "text": [
            "Requirement already up-to-date: tensorflow in /usr/local/lib/python3.6/dist-packages\n",
            "Requirement already up-to-date: six>=1.10.0 in /usr/local/lib/python3.6/dist-packages (from tensorflow)\n",
            "Requirement already up-to-date: wheel>=0.26 in /usr/local/lib/python3.6/dist-packages (from tensorflow)\n",
            "Requirement already up-to-date: protobuf>=3.4.0 in /usr/local/lib/python3.6/dist-packages (from tensorflow)\n",
            "Requirement already up-to-date: grpcio>=1.8.6 in /usr/local/lib/python3.6/dist-packages (from tensorflow)\n",
            "Requirement already up-to-date: astor>=0.6.0 in /usr/local/lib/python3.6/dist-packages (from tensorflow)\n",
            "Requirement already up-to-date: termcolor>=1.1.0 in /usr/local/lib/python3.6/dist-packages (from tensorflow)\n",
            "Requirement already up-to-date: gast>=0.2.0 in /usr/local/lib/python3.6/dist-packages (from tensorflow)\n",
            "Requirement already up-to-date: tensorboard<1.7.0,>=1.6.0 in /usr/local/lib/python3.6/dist-packages (from tensorflow)\n",
            "Requirement already up-to-date: absl-py>=0.1.6 in /usr/local/lib/python3.6/dist-packages (from tensorflow)\n",
            "Requirement already up-to-date: numpy>=1.13.3 in /usr/local/lib/python3.6/dist-packages (from tensorflow)\n",
            "Requirement already up-to-date: setuptools in /usr/local/lib/python3.6/dist-packages (from protobuf>=3.4.0->tensorflow)\n",
            "Requirement already up-to-date: html5lib==0.9999999 in /usr/local/lib/python3.6/dist-packages (from tensorboard<1.7.0,>=1.6.0->tensorflow)\n",
            "Requirement already up-to-date: bleach==1.5.0 in /usr/local/lib/python3.6/dist-packages (from tensorboard<1.7.0,>=1.6.0->tensorflow)\n",
            "Requirement already up-to-date: markdown>=2.6.8 in /usr/local/lib/python3.6/dist-packages (from tensorboard<1.7.0,>=1.6.0->tensorflow)\n",
            "Requirement already up-to-date: werkzeug>=0.11.10 in /usr/local/lib/python3.6/dist-packages (from tensorboard<1.7.0,>=1.6.0->tensorflow)\n"
          ],
          "name": "stdout"
        }
      ]
    },
    {
      "metadata": {
        "id": "4uG9v_14npop",
        "colab_type": "text"
      },
      "cell_type": "markdown",
      "source": [
        "Eager is included as an experimental feature inside the contrib module:"
      ]
    },
    {
      "metadata": {
        "id": "jfP0tOofnJ9S",
        "colab_type": "code",
        "colab": {
          "autoexec": {
            "startup": false,
            "wait_interval": 0
          }
        }
      },
      "cell_type": "code",
      "source": [
        "import tensorflow as tf\n",
        "import tensorflow.contrib.eager as tfe\n",
        "import numpy as np\n",
        "tfe.enable_eager_execution()"
      ],
      "execution_count": 0,
      "outputs": []
    },
    {
      "metadata": {
        "id": "_8zJc4-Vpd3A",
        "colab_type": "text"
      },
      "cell_type": "markdown",
      "source": [
        "The previous instruction should always be run at the beginning of a program. If it fails, simply reset the runtime of the notebook from Runtime >> Restart runtime."
      ]
    },
    {
      "metadata": {
        "id": "kBNAHEBU9Uvj",
        "colab_type": "text"
      },
      "cell_type": "markdown",
      "source": [
        "## Additional: experimenting with eager functionalities in the nightly branch"
      ]
    },
    {
      "metadata": {
        "id": "C_Nl4k519hXg",
        "colab_type": "text"
      },
      "cell_type": "markdown",
      "source": [
        "Since Eager is under development, new features are being constantly included (e.g., additional layers) and are not immediately available on the main branch. If you want to experiment with the latest Eager module, the recommended way is to setup a [virtual environment](https://www.tensorflow.org/install/install_linux#InstallingVirtualenv) and install the nightly branch of TF."
      ]
    },
    {
      "metadata": {
        "id": "FLYGPVWp-6qs",
        "colab_type": "text"
      },
      "cell_type": "markdown",
      "source": [
        "The virtual environment can be created using either [virtualenv](https://virtualenv.pypa.io/en/stable/installation/) or the [Anaconda distribution](https://conda.io/docs/user-guide/tasks/manage-environments.html), and the installation is specific to the OS. For example, using virtualenv on a Unix platform we can create and activate a new environment as follows: "
      ]
    },
    {
      "metadata": {
        "id": "MuFXS1w_-5QT",
        "colab_type": "text"
      },
      "cell_type": "markdown",
      "source": [
        "```python\n",
        "virtualenv --system-site-packages -p python3 tfeager\n",
        "source ~/tfeager/bin/activate\n",
        "```"
      ]
    },
    {
      "metadata": {
        "id": "UODpDBXdA0KX",
        "colab_type": "text"
      },
      "cell_type": "markdown",
      "source": [
        "The [official installation guide of TensorFlow](https://www.tensorflow.org/install/) describes the proper commands for other systems as well. Once a clean virtual environment is running, you can install the nightly build of TensorFlow as a standard Python package:"
      ]
    },
    {
      "metadata": {
        "id": "KG015G5mBEIA",
        "colab_type": "code",
        "colab": {
          "autoexec": {
            "startup": false,
            "wait_interval": 0
          }
        }
      },
      "cell_type": "code",
      "source": [
        "!pip install tf-nightly # replace with tf-nightly-gpu for GPU support"
      ],
      "execution_count": 0,
      "outputs": []
    },
    {
      "metadata": {
        "id": "5P0ToXGupvlu",
        "colab_type": "text"
      },
      "cell_type": "markdown",
      "source": [
        "# A neural network with eager execution"
      ]
    },
    {
      "metadata": {
        "id": "tSheSH8ArO4N",
        "colab_type": "text"
      },
      "cell_type": "markdown",
      "source": [
        "## Loading data\n",
        "\n",
        "We are going to code a simple neural network on the [Iris dataset](https://archive.ics.uci.edu/ml/datasets/iris) to highlight some differences with the standard TF execution. For the purpose of this demo, we will load the scikit-learn version of Iris, preprocess it, and split it into two sets:"
      ]
    },
    {
      "metadata": {
        "id": "m8tCHLpWp0MD",
        "colab_type": "code",
        "colab": {
          "autoexec": {
            "startup": false,
            "wait_interval": 0
          }
        }
      },
      "cell_type": "code",
      "source": [
        "from sklearn import datasets, preprocessing, model_selection\n",
        "data = datasets.load_iris()\n",
        "# Feature normalization on the input\n",
        "X = preprocessing.MinMaxScaler(feature_range=(-1,+1)).fit_transform(data['data'])\n",
        "# Encode the output using the one-hot encoding\n",
        "y = preprocessing.OneHotEncoder(sparse=False).fit_transform(data['target'].reshape(-1, 1))\n",
        "# Split in train/test sets\n",
        "X_train, X_test, y_train, y_test = model_selection.train_test_split(X, y, test_size=0.25, stratify=y)"
      ],
      "execution_count": 0,
      "outputs": []
    },
    {
      "metadata": {
        "id": "8azE_xwVr4ak",
        "colab_type": "text"
      },
      "cell_type": "markdown",
      "source": [
        "## Variables and gradients in TFE"
      ]
    },
    {
      "metadata": {
        "id": "2lkQTVjyiHN-",
        "colab_type": "text"
      },
      "cell_type": "markdown",
      "source": [
        "### Eager variables and NumPy compatibility"
      ]
    },
    {
      "metadata": {
        "id": "X1REd6l0szLs",
        "colab_type": "text"
      },
      "cell_type": "markdown",
      "source": [
        "Before going straight to the model definition, let us see how variables and gradients are handled under the eager execution. First, Eager comes with its own implementation of variables, which are automatically initalized when requested:"
      ]
    },
    {
      "metadata": {
        "id": "Pbq_WeeBr1Jk",
        "colab_type": "code",
        "colab": {
          "autoexec": {
            "startup": false,
            "wait_interval": 0
          },
          "output_extras": [
            {
              "item_id": 1
            }
          ],
          "base_uri": "https://localhost:8080/",
          "height": 34
        },
        "outputId": "8c22adc6-358c-441d-e608-86741741fe76",
        "executionInfo": {
          "status": "ok",
          "timestamp": 1519219380727,
          "user_tz": -60,
          "elapsed": 1058,
          "user": {
            "displayName": "Simone Scardapane",
            "photoUrl": "//lh6.googleusercontent.com/-ZK0nd0iCe7w/AAAAAAAAAAI/AAAAAAAAA_o/pNhWxdOsGTI/s50-c-k-no/photo.jpg",
            "userId": "115632300554726808471"
          }
        }
      },
      "cell_type": "code",
      "source": [
        "W = tfe.Variable(0.5, name='w')\n",
        "print(W)"
      ],
      "execution_count": 4,
      "outputs": [
        {
          "output_type": "stream",
          "text": [
            "<tf.Variable 'w:0' shape=() dtype=float32, numpy=0.5>\n"
          ],
          "name": "stdout"
        }
      ]
    },
    {
      "metadata": {
        "id": "Rhh_2-yRHSXw",
        "colab_type": "text"
      },
      "cell_type": "markdown",
      "source": [
        "To further simplify development, in Eager you can mix TF Tensors and NumPy arrays with automatic casting underneath:"
      ]
    },
    {
      "metadata": {
        "id": "YLymy2ciHGRW",
        "colab_type": "code",
        "colab": {
          "autoexec": {
            "startup": false,
            "wait_interval": 0
          },
          "output_extras": [
            {
              "item_id": 1
            }
          ],
          "base_uri": "https://localhost:8080/",
          "height": 34
        },
        "outputId": "345f939b-5f73-42b1-a498-a8b27b6405d9",
        "executionInfo": {
          "status": "ok",
          "timestamp": 1519219387168,
          "user_tz": -60,
          "elapsed": 470,
          "user": {
            "displayName": "Simone Scardapane",
            "photoUrl": "//lh6.googleusercontent.com/-ZK0nd0iCe7w/AAAAAAAAAAI/AAAAAAAAA_o/pNhWxdOsGTI/s50-c-k-no/photo.jpg",
            "userId": "115632300554726808471"
          }
        }
      },
      "cell_type": "code",
      "source": [
        "print(W + np.asarray([1, 3]))"
      ],
      "execution_count": 5,
      "outputs": [
        {
          "output_type": "stream",
          "text": [
            "tf.Tensor([1.5 3.5], shape=(2,), dtype=float32)\n"
          ],
          "name": "stdout"
        }
      ]
    },
    {
      "metadata": {
        "id": "fGrcBXc_IPfn",
        "colab_type": "text"
      },
      "cell_type": "markdown",
      "source": [
        "And you can extract the NumPy representation of a Tensor with a new `numpy` method:\n",
        "\n"
      ]
    },
    {
      "metadata": {
        "id": "J-d5d6usIbbd",
        "colab_type": "code",
        "colab": {
          "autoexec": {
            "startup": false,
            "wait_interval": 0
          },
          "output_extras": [
            {
              "item_id": 1
            }
          ],
          "base_uri": "https://localhost:8080/",
          "height": 34
        },
        "outputId": "040d7dfd-adb9-4d23-ddcc-c243a5e4fe5d",
        "executionInfo": {
          "status": "ok",
          "timestamp": 1519219390771,
          "user_tz": -60,
          "elapsed": 454,
          "user": {
            "displayName": "Simone Scardapane",
            "photoUrl": "//lh6.googleusercontent.com/-ZK0nd0iCe7w/AAAAAAAAAAI/AAAAAAAAA_o/pNhWxdOsGTI/s50-c-k-no/photo.jpg",
            "userId": "115632300554726808471"
          }
        }
      },
      "cell_type": "code",
      "source": [
        "W.numpy()"
      ],
      "execution_count": 6,
      "outputs": [
        {
          "output_type": "execute_result",
          "data": {
            "text/plain": [
              "0.5"
            ]
          },
          "metadata": {
            "tags": []
          },
          "execution_count": 6
        }
      ]
    },
    {
      "metadata": {
        "id": "_is0UUtiDZ83",
        "colab_type": "text"
      },
      "cell_type": "markdown",
      "source": [
        "Finally, we can initialize an Eager variable using the standard `get_variable` method, by specifying a new flag:\n",
        "\n"
      ]
    },
    {
      "metadata": {
        "id": "JbY5E970DjY4",
        "colab_type": "code",
        "colab": {
          "autoexec": {
            "startup": false,
            "wait_interval": 0
          },
          "output_extras": [
            {
              "item_id": 1
            }
          ],
          "base_uri": "https://localhost:8080/",
          "height": 54
        },
        "outputId": "a62e0e45-f455-454d-c6e2-dd0490b97365",
        "executionInfo": {
          "status": "ok",
          "timestamp": 1519219395381,
          "user_tz": -60,
          "elapsed": 458,
          "user": {
            "displayName": "Simone Scardapane",
            "photoUrl": "//lh6.googleusercontent.com/-ZK0nd0iCe7w/AAAAAAAAAAI/AAAAAAAAA_o/pNhWxdOsGTI/s50-c-k-no/photo.jpg",
            "userId": "115632300554726808471"
          }
        }
      },
      "cell_type": "code",
      "source": [
        "W2 = tf.get_variable('W2', shape=[1], use_resource=True)\n",
        "print(W2)"
      ],
      "execution_count": 7,
      "outputs": [
        {
          "output_type": "stream",
          "text": [
            "<tf.Variable 'W2:0' shape=(1,) dtype=float32, numpy=array([-1.6226029], dtype=float32)>\n"
          ],
          "name": "stdout"
        }
      ]
    },
    {
      "metadata": {
        "id": "VtfqaWPyiLJG",
        "colab_type": "text"
      },
      "cell_type": "markdown",
      "source": [
        "### Computing gradients in TF Eager"
      ]
    },
    {
      "metadata": {
        "id": "TsdEBzM6Iuzo",
        "colab_type": "text"
      },
      "cell_type": "markdown",
      "source": [
        "Gradients computation is where the real simplicity of Eager comes to fruition. In the standard TF API, functions and their gradients are both nodes in the computational graph, and the `gradients` method is used to add the corresponding nodes automatically:\n",
        "\n",
        "\n",
        "```python\n",
        "# Will throw an error if eager execution is enabled\n",
        "f_grad = tf.gradients(1.0 + W, W)\n",
        "```\n",
        "\n"
      ]
    },
    {
      "metadata": {
        "id": "Bzu1WIiYM9X-",
        "colab_type": "text"
      },
      "cell_type": "markdown",
      "source": [
        "When eager execution is enabled, functions can be defined using standard Python syntax, and the `tfe.gradients_function` will return the handle to another *Python* function to compute the gradient:\n",
        "\n"
      ]
    },
    {
      "metadata": {
        "id": "F3M7DqsgI0YG",
        "colab_type": "code",
        "colab": {
          "autoexec": {
            "startup": false,
            "wait_interval": 0
          },
          "output_extras": [
            {
              "item_id": 1
            }
          ],
          "base_uri": "https://localhost:8080/",
          "height": 34
        },
        "outputId": "9564da32-406a-4007-b741-fcd0b66bf311",
        "executionInfo": {
          "status": "ok",
          "timestamp": 1519219484321,
          "user_tz": -60,
          "elapsed": 511,
          "user": {
            "displayName": "Simone Scardapane",
            "photoUrl": "//lh6.googleusercontent.com/-ZK0nd0iCe7w/AAAAAAAAAAI/AAAAAAAAA_o/pNhWxdOsGTI/s50-c-k-no/photo.jpg",
            "userId": "115632300554726808471"
          }
        }
      },
      "cell_type": "code",
      "source": [
        "def f(W):\n",
        "  return 1.0 + 2.0*W\n",
        "f_grad = tfe.gradients_function(f)\n",
        "print(f_grad(0.3))"
      ],
      "execution_count": 8,
      "outputs": [
        {
          "output_type": "stream",
          "text": [
            "[<tf.Tensor: id=42, shape=(), dtype=float32, numpy=2.0>]\n"
          ],
          "name": "stdout"
        }
      ]
    },
    {
      "metadata": {
        "id": "LRuBWsdSintp",
        "colab_type": "text"
      },
      "cell_type": "markdown",
      "source": [
        "\n",
        "\n",
        "In programming terms, we are now dealing with an **imperative** definition, as opposed to a **declarative** interface.\n",
        "\n"
      ]
    },
    {
      "metadata": {
        "id": "b2XLHW1sN-pr",
        "colab_type": "text"
      },
      "cell_type": "markdown",
      "source": [
        "We can also use `tfe.value_and_gradients_function` to compute the value and the gradients simultaneously. By default, the gradient is computed with respect to all the parameters of the function. We can specify a list of parameters explicitly, either by name or by indexing:\n",
        "\n"
      ]
    },
    {
      "metadata": {
        "id": "scYI36DINxId",
        "colab_type": "code",
        "colab": {
          "autoexec": {
            "startup": false,
            "wait_interval": 0
          },
          "output_extras": [
            {
              "item_id": 1
            }
          ],
          "base_uri": "https://localhost:8080/",
          "height": 34
        },
        "outputId": "d49f9300-4324-4183-9ae3-e701b834f68f",
        "executionInfo": {
          "status": "ok",
          "timestamp": 1519219575360,
          "user_tz": -60,
          "elapsed": 492,
          "user": {
            "displayName": "Simone Scardapane",
            "photoUrl": "//lh6.googleusercontent.com/-ZK0nd0iCe7w/AAAAAAAAAAI/AAAAAAAAA_o/pNhWxdOsGTI/s50-c-k-no/photo.jpg",
            "userId": "115632300554726808471"
          }
        }
      },
      "cell_type": "code",
      "source": [
        "a = tf.constant(0.3)\n",
        "b = tf.constant(0.5)\n",
        "\n",
        "def f(a, b):\n",
        "  return a*b\n",
        "\n",
        "# Return the gradient for the first parameter only\n",
        "print(tfe.gradients_function(f, params=[0])(1.0, 1.0))\n",
        "\n",
        "# Alternative definition (by name)\n",
        "# print(tfe.gradients_function(f, params=['a'])(1.0, 1.0))"
      ],
      "execution_count": 10,
      "outputs": [
        {
          "output_type": "stream",
          "text": [
            "[<tf.Tensor: id=47, shape=(), dtype=float32, numpy=1.0>]\n"
          ],
          "name": "stdout"
        }
      ]
    },
    {
      "metadata": {
        "id": "8DEYc1fFO4hO",
        "colab_type": "text"
      },
      "cell_type": "markdown",
      "source": [
        "And we can chain the use of `tfe.gradients_function` to get higher-order derivatives:"
      ]
    },
    {
      "metadata": {
        "id": "TMRDPnQmO-87",
        "colab_type": "code",
        "colab": {
          "autoexec": {
            "startup": false,
            "wait_interval": 0
          },
          "output_extras": [
            {
              "item_id": 1
            }
          ],
          "base_uri": "https://localhost:8080/",
          "height": 34
        },
        "outputId": "62cf6e75-75be-42e1-cf9b-0bdd3d5939ff",
        "executionInfo": {
          "status": "ok",
          "timestamp": 1519219580046,
          "user_tz": -60,
          "elapsed": 491,
          "user": {
            "displayName": "Simone Scardapane",
            "photoUrl": "//lh6.googleusercontent.com/-ZK0nd0iCe7w/AAAAAAAAAAI/AAAAAAAAA_o/pNhWxdOsGTI/s50-c-k-no/photo.jpg",
            "userId": "115632300554726808471"
          }
        }
      },
      "cell_type": "code",
      "source": [
        "def f(W):\n",
        "  return tf.square(W)\n",
        "\n",
        "# Second-order derivative\n",
        "f_gg = tfe.gradients_function(tfe.gradients_function(f))\n",
        "f_gg(1.0)"
      ],
      "execution_count": 11,
      "outputs": [
        {
          "output_type": "execute_result",
          "data": {
            "text/plain": [
              "[<tf.Tensor: id=57, shape=(), dtype=float32, numpy=2.0>]"
            ]
          },
          "metadata": {
            "tags": []
          },
          "execution_count": 11
        }
      ]
    },
    {
      "metadata": {
        "id": "MZL5tCFWPaat",
        "colab_type": "text"
      },
      "cell_type": "markdown",
      "source": [
        "## Defining models using layers"
      ]
    },
    {
      "metadata": {
        "id": "AKFjb1T0uRD6",
        "colab_type": "text"
      },
      "cell_type": "markdown",
      "source": [
        "While we can use variables to directly define our model, this is clearly unpractical as soon as the model starts to get complicated. To simplify the development, there are a number of Eager strategies we can adopt."
      ]
    },
    {
      "metadata": {
        "id": "f8KcSfvyjNM_",
        "colab_type": "text"
      },
      "cell_type": "markdown",
      "source": [
        "First, we can use all the blocks defined in the [layers' module](https://www.tensorflow.org/api_docs/python/tf/layers), which automatically detect we are working in eager mode and initialize their variables accordingly. For example, this is a simple linear model:"
      ]
    },
    {
      "metadata": {
        "id": "Qzw-u4vGt-wu",
        "colab_type": "code",
        "colab": {
          "autoexec": {
            "startup": false,
            "wait_interval": 0
          }
        }
      },
      "cell_type": "code",
      "source": [
        "lin = tf.layers.Dense(units=3, use_bias=True, activation=None)"
      ],
      "execution_count": 0,
      "outputs": []
    },
    {
      "metadata": {
        "id": "3aSnJmEiEvTb",
        "colab_type": "text"
      },
      "cell_type": "markdown",
      "source": [
        "We can stack multiple layers to create more complicated models. For example, a neural network with one hidden layer and dropout in the middle:"
      ]
    },
    {
      "metadata": {
        "id": "uqhgB4bXEup1",
        "colab_type": "code",
        "colab": {
          "autoexec": {
            "startup": false,
            "wait_interval": 0
          }
        }
      },
      "cell_type": "code",
      "source": [
        "hid = tf.layers.Dense(units=10, activation=tf.nn.relu)\n",
        "drop = tf.layers.Dropout()\n",
        "out = tf.layers.Dense(units=3, activation=None)\n",
        "\n",
        "def nn_model(x, training=False):\n",
        "  return out(drop(hid(x), training=training))"
      ],
      "execution_count": 0,
      "outputs": []
    },
    {
      "metadata": {
        "id": "8i-dVMxfjbDg",
        "colab_type": "text"
      },
      "cell_type": "markdown",
      "source": [
        "Note the `training` flag we can use to differentiate between training and test (for the dropout layer). This is a standard practice for all layers that have a different behaviour in the two cases.\n",
        "\n"
      ]
    },
    {
      "metadata": {
        "id": "nfueqIQ7vBjM",
        "colab_type": "text"
      },
      "cell_type": "markdown",
      "source": [
        "For more complicated models, it becomes useful to have an object-oriented interface to keep track of how the layers are organized. Eager provides such a functionality in the [Network]() object. Consider again a neural network with just one hidden layer:"
      ]
    },
    {
      "metadata": {
        "id": "ieyztj5VvAGr",
        "colab_type": "code",
        "colab": {
          "autoexec": {
            "startup": false,
            "wait_interval": 0
          }
        }
      },
      "cell_type": "code",
      "source": [
        "class SingleHiddenLayerNetwork(tfe.Network):\n",
        "  def __init__(self):\n",
        "    super(SingleHiddenLayerNetwork, self).__init__()\n",
        "    # Each layer is registered using the track_layer function\n",
        "    self.hidden_layer = self.track_layer(tf.layers.Dense(10, activation=tf.nn.tanh, use_bias=True))\n",
        "    self.output_layer = self.track_layer(tf.layers.Dense(3, use_bias=True, activation=None))\n",
        "\n",
        "  def call(self, x):\n",
        "    return self.output_layer(self.hidden_layer(x))\n",
        "\n",
        "net = SingleHiddenLayerNetwork()"
      ],
      "execution_count": 0,
      "outputs": []
    },
    {
      "metadata": {
        "id": "CxIseRSnvsAm",
        "colab_type": "text"
      },
      "cell_type": "markdown",
      "source": [
        "It is relatively similar to the [functional interface of Keras](https://keras.io/getting-started/functional-api-guide/), the main difference being that we need to call `track_layer` in the initialization phase to register all the layers of our model. Note that variables are not yet initialized:\n",
        "\n"
      ]
    },
    {
      "metadata": {
        "id": "fk6OE_IJvqJL",
        "colab_type": "code",
        "colab": {
          "autoexec": {
            "startup": false,
            "wait_interval": 0
          },
          "output_extras": [
            {
              "item_id": 1
            }
          ],
          "base_uri": "https://localhost:8080/",
          "height": 34
        },
        "outputId": "83d45687-ac6b-43eb-d347-9bcd7a34d08b",
        "executionInfo": {
          "status": "ok",
          "timestamp": 1519220387508,
          "user_tz": -60,
          "elapsed": 470,
          "user": {
            "displayName": "Simone Scardapane",
            "photoUrl": "//lh6.googleusercontent.com/-ZK0nd0iCe7w/AAAAAAAAAAI/AAAAAAAAA_o/pNhWxdOsGTI/s50-c-k-no/photo.jpg",
            "userId": "115632300554726808471"
          }
        }
      },
      "cell_type": "code",
      "source": [
        "len(net.variables)"
      ],
      "execution_count": 15,
      "outputs": [
        {
          "output_type": "execute_result",
          "data": {
            "text/plain": [
              "0"
            ]
          },
          "metadata": {
            "tags": []
          },
          "execution_count": 15
        }
      ]
    },
    {
      "metadata": {
        "id": "4mF3xz9DwWYn",
        "colab_type": "text"
      },
      "cell_type": "markdown",
      "source": [
        "However, it is enough to use the model a single time to automatically trigger the initialization. Networks objects can be called as if they were functions:"
      ]
    },
    {
      "metadata": {
        "id": "kxHXkU-awT57",
        "colab_type": "code",
        "colab": {
          "autoexec": {
            "startup": false,
            "wait_interval": 0
          }
        }
      },
      "cell_type": "code",
      "source": [
        "net(tf.constant(X_train[0:1]))\n",
        "len(net.variables)"
      ],
      "execution_count": 0,
      "outputs": []
    },
    {
      "metadata": {
        "id": "fkQcTsWfmD9G",
        "colab_type": "text"
      },
      "cell_type": "markdown",
      "source": [
        "Networks have several additional utilities to handle the models. For example, we can count the number of adaptable parameters of the model:"
      ]
    },
    {
      "metadata": {
        "id": "S3cH5OzDl_wv",
        "colab_type": "code",
        "colab": {
          "autoexec": {
            "startup": false,
            "wait_interval": 0
          },
          "output_extras": [
            {
              "item_id": 1
            }
          ],
          "base_uri": "https://localhost:8080/",
          "height": 34
        },
        "outputId": "d93018b7-f2ab-4c2c-a507-88c6d933ed21",
        "executionInfo": {
          "status": "ok",
          "timestamp": 1519220533079,
          "user_tz": -60,
          "elapsed": 614,
          "user": {
            "displayName": "Simone Scardapane",
            "photoUrl": "//lh6.googleusercontent.com/-ZK0nd0iCe7w/AAAAAAAAAAI/AAAAAAAAA_o/pNhWxdOsGTI/s50-c-k-no/photo.jpg",
            "userId": "115632300554726808471"
          }
        }
      },
      "cell_type": "code",
      "source": [
        "net.count_params()"
      ],
      "execution_count": 17,
      "outputs": [
        {
          "output_type": "execute_result",
          "data": {
            "text/plain": [
              "83"
            ]
          },
          "metadata": {
            "tags": []
          },
          "execution_count": 17
        }
      ]
    },
    {
      "metadata": {
        "id": "BpqJR0Urmpd5",
        "colab_type": "text"
      },
      "cell_type": "markdown",
      "source": [
        "For simple sequential models, Eager also provides a short-hand with the `Sequential` object; the following is equivalent to the previous model definition:\n",
        "\n"
      ]
    },
    {
      "metadata": {
        "id": "VuQoVc_cepvV",
        "colab_type": "code",
        "colab": {
          "autoexec": {
            "startup": false,
            "wait_interval": 0
          }
        }
      },
      "cell_type": "code",
      "source": [
        "net = tfe.Sequential(layers_funcs=[\n",
        "    tf.layers.Dense(10, activation=tf.nn.tanh, use_bias=True), \n",
        "    tf.layers.Dense(3, use_bias=True, activation=None)\n",
        "])"
      ],
      "execution_count": 0,
      "outputs": []
    },
    {
      "metadata": {
        "id": "kfB5YWC2xnus",
        "colab_type": "text"
      },
      "cell_type": "markdown",
      "source": [
        "## Handling the input pipeline"
      ]
    },
    {
      "metadata": {
        "id": "CUvEWaFk2FZ3",
        "colab_type": "text"
      },
      "cell_type": "markdown",
      "source": [
        "The next step is to define the input function to handle our dataset. Since the latest versions of TF, the preferred method is the use of the [data pipeline with the Dataset object](https://www.tensorflow.org/programmers_guide/datasets):"
      ]
    },
    {
      "metadata": {
        "id": "uUhI33Ugwc1t",
        "colab_type": "code",
        "colab": {
          "autoexec": {
            "startup": false,
            "wait_interval": 0
          }
        }
      },
      "cell_type": "code",
      "source": [
        "train_dataset = tf.data.Dataset.from_tensor_slices((X_train, y_train))"
      ],
      "execution_count": 0,
      "outputs": []
    },
    {
      "metadata": {
        "id": "SORXDHDL2izp",
        "colab_type": "text"
      },
      "cell_type": "markdown",
      "source": [
        "To cycle over the data, we can use the Eager module `tfe.Iterator` instead of `tf.data.Iterator`, which acts as a standard Python iterator. For example, we can cycle over each batch in the dataset and print the proportion of the first class in each batch:\n"
      ]
    },
    {
      "metadata": {
        "id": "Q2MeCbe-2h0o",
        "colab_type": "code",
        "colab": {
          "autoexec": {
            "startup": false,
            "wait_interval": 0
          },
          "output_extras": [
            {
              "item_id": 1
            }
          ],
          "base_uri": "https://localhost:8080/",
          "height": 85
        },
        "outputId": "3d3826a5-d20a-4a7a-e70c-46099ddb51ee",
        "executionInfo": {
          "status": "ok",
          "timestamp": 1519220724551,
          "user_tz": -60,
          "elapsed": 542,
          "user": {
            "displayName": "Simone Scardapane",
            "photoUrl": "//lh6.googleusercontent.com/-ZK0nd0iCe7w/AAAAAAAAAAI/AAAAAAAAA_o/pNhWxdOsGTI/s50-c-k-no/photo.jpg",
            "userId": "115632300554726808471"
          }
        }
      },
      "cell_type": "code",
      "source": [
        "import numpy as np\n",
        "for xb,yb in tfe.Iterator(train_dataset.batch(32)):\n",
        "  print('Percentage of class [0]: ', tf.reduce_mean(yb[:, 0]).numpy()*100, ' %')"
      ],
      "execution_count": 22,
      "outputs": [
        {
          "output_type": "stream",
          "text": [
            "Percentage of class [0]:  31.25  %\n",
            "Percentage of class [0]:  34.375  %\n",
            "Percentage of class [0]:  37.5  %\n",
            "Percentage of class [0]:  25.0  %\n"
          ],
          "name": "stdout"
        }
      ]
    },
    {
      "metadata": {
        "id": "VJO-AXD5SpXp",
        "colab_type": "text"
      },
      "cell_type": "markdown",
      "source": [
        "`from_tensor_slices` creates a dataset having one element for each row of our original tensors. If you don't need batching, `from_tensors` will treat the entire tensor as a single element:"
      ]
    },
    {
      "metadata": {
        "id": "cRDP35hUS7eR",
        "colab_type": "code",
        "colab": {
          "autoexec": {
            "startup": false,
            "wait_interval": 0
          },
          "output_extras": [
            {
              "item_id": 1
            }
          ],
          "base_uri": "https://localhost:8080/",
          "height": 34
        },
        "outputId": "87ec37f3-3783-43af-9044-e46640e79d8d",
        "executionInfo": {
          "status": "ok",
          "timestamp": 1519220851214,
          "user_tz": -60,
          "elapsed": 629,
          "user": {
            "displayName": "Simone Scardapane",
            "photoUrl": "//lh6.googleusercontent.com/-ZK0nd0iCe7w/AAAAAAAAAAI/AAAAAAAAA_o/pNhWxdOsGTI/s50-c-k-no/photo.jpg",
            "userId": "115632300554726808471"
          }
        }
      },
      "cell_type": "code",
      "source": [
        "train_dataset_alt = tf.data.Dataset.from_tensors((X_train, y_train))\n",
        "for xb, yb in tfe.Iterator(train_dataset_alt):\n",
        "  # Check that the batch is equivalent to the entire training array\n",
        "  assert(np.all(X_train == xb.numpy()))\n",
        "  # Compute the percentage of labels for the first class\n",
        "  print('Percentage of class [0] (entire dataset): ', tf.reduce_mean(yb[:, 0]).numpy()*100, ' %')"
      ],
      "execution_count": 26,
      "outputs": [
        {
          "output_type": "stream",
          "text": [
            "Percentage of class [0] (entire dataset):  33.035714285714285  %\n"
          ],
          "name": "stdout"
        }
      ]
    },
    {
      "metadata": {
        "id": "glIRAB6PHUIl",
        "colab_type": "text"
      },
      "cell_type": "markdown",
      "source": [
        "We can apply further transformations to the dataset before processing it, such as repeating the entire dataset twice:"
      ]
    },
    {
      "metadata": {
        "id": "MA4DNEYpHTeG",
        "colab_type": "code",
        "colab": {
          "autoexec": {
            "startup": false,
            "wait_interval": 0
          },
          "output_extras": [
            {
              "item_id": 1
            }
          ],
          "base_uri": "https://localhost:8080/",
          "height": 136
        },
        "outputId": "b6e013b7-722d-45ec-a1d1-4c5310837d83",
        "executionInfo": {
          "status": "ok",
          "timestamp": 1519220729654,
          "user_tz": -60,
          "elapsed": 486,
          "user": {
            "displayName": "Simone Scardapane",
            "photoUrl": "//lh6.googleusercontent.com/-ZK0nd0iCe7w/AAAAAAAAAAI/AAAAAAAAA_o/pNhWxdOsGTI/s50-c-k-no/photo.jpg",
            "userId": "115632300554726808471"
          }
        }
      },
      "cell_type": "code",
      "source": [
        "for xb,yb in tfe.Iterator(train_dataset.repeat(2).batch(32)):\n",
        "  print('Percentage of class [0]: ', tf.reduce_mean(yb[:, 0]).numpy()*100, ' %')"
      ],
      "execution_count": 23,
      "outputs": [
        {
          "output_type": "stream",
          "text": [
            "Percentage of class [0]:  31.25  %\n",
            "Percentage of class [0]:  34.375  %\n",
            "Percentage of class [0]:  37.5  %\n",
            "Percentage of class [0]:  31.25  %\n",
            "Percentage of class [0]:  28.125  %\n",
            "Percentage of class [0]:  34.375  %\n",
            "Percentage of class [0]:  34.375  %\n"
          ],
          "name": "stdout"
        }
      ]
    },
    {
      "metadata": {
        "id": "vt3DD2EvHsuH",
        "colab_type": "text"
      },
      "cell_type": "markdown",
      "source": [
        "Or shuffling the dataset each time we cycle over it:"
      ]
    },
    {
      "metadata": {
        "id": "gEVoay9KHvcL",
        "colab_type": "code",
        "colab": {
          "autoexec": {
            "startup": false,
            "wait_interval": 0
          },
          "output_extras": [
            {
              "item_id": 1
            }
          ],
          "base_uri": "https://localhost:8080/",
          "height": 85
        },
        "outputId": "7d9f81de-5408-4b30-ed0f-fde823416bec",
        "executionInfo": {
          "status": "ok",
          "timestamp": 1519220733923,
          "user_tz": -60,
          "elapsed": 505,
          "user": {
            "displayName": "Simone Scardapane",
            "photoUrl": "//lh6.googleusercontent.com/-ZK0nd0iCe7w/AAAAAAAAAAI/AAAAAAAAA_o/pNhWxdOsGTI/s50-c-k-no/photo.jpg",
            "userId": "115632300554726808471"
          }
        }
      },
      "cell_type": "code",
      "source": [
        "for xb,yb in tfe.Iterator(train_dataset.shuffle(1000).batch(32)):\n",
        "  print('Percentage of class [0]: ', tf.reduce_mean(yb[:, 0]).numpy()*100, ' %')"
      ],
      "execution_count": 24,
      "outputs": [
        {
          "output_type": "stream",
          "text": [
            "Percentage of class [0]:  37.5  %\n",
            "Percentage of class [0]:  28.125  %\n",
            "Percentage of class [0]:  40.625  %\n",
            "Percentage of class [0]:  18.75  %\n"
          ],
          "name": "stdout"
        }
      ]
    },
    {
      "metadata": {
        "id": "pV6WsMHpH1PX",
        "colab_type": "text"
      },
      "cell_type": "markdown",
      "source": [
        "The parameter for the `shuffle` method is a buffer dimension: if we need to process very large datasets, it would be unfeasible to shuffle them uniformly. In this case, the buffer size specifies the dimension of blocks that we will randomly shuffle. If we set the buffer parameter larger than the size of the dataset, this is equivalent to a uniform shuffling.\n",
        "\n"
      ]
    },
    {
      "metadata": {
        "id": "ehLIBkN23ltL",
        "colab_type": "text"
      },
      "cell_type": "markdown",
      "source": [
        "## Gradients' computation and model's optimization"
      ]
    },
    {
      "metadata": {
        "id": "0oiZAEHc3qQg",
        "colab_type": "text"
      },
      "cell_type": "markdown",
      "source": [
        "It is now time to define our cost function:"
      ]
    },
    {
      "metadata": {
        "id": "25ReOH_e3aSf",
        "colab_type": "code",
        "colab": {
          "autoexec": {
            "startup": false,
            "wait_interval": 0
          }
        }
      },
      "cell_type": "code",
      "source": [
        "def loss(net, inputs, labels):\n",
        "  return tf.reduce_sum(tf.nn.softmax_cross_entropy_with_logits_v2(\n",
        "          logits=net(inputs), labels=labels))"
      ],
      "execution_count": 0,
      "outputs": []
    },
    {
      "metadata": {
        "id": "oHy0tkywJDSj",
        "colab_type": "text"
      },
      "cell_type": "markdown",
      "source": [
        "We are using the novel `softmax_cross_entropy_with_logits_v2` instead of the older `softmax_cross_entropy_with_logits`, which would throw a warning as it will be deprecated in future releases. The two are identical, except that the new version allows to back-propagate through the labels by default: while this is entirely useless in this case, it is needed when the labels are coming from another neural model (as in [generative networks](https://www.tensorflow.org/api_docs/python/tf/contrib/gan)).\n",
        "\n"
      ]
    },
    {
      "metadata": {
        "id": "-3q6s47i5k58",
        "colab_type": "text"
      },
      "cell_type": "markdown",
      "source": [
        "Note again that the cost is defined explicitly as a Python function, instead of as a given node in our TensorFlow graph."
      ]
    },
    {
      "metadata": {
        "id": "AQ8zKQfw53xX",
        "colab_type": "text"
      },
      "cell_type": "markdown",
      "source": [
        "In order to better understand Eager, we are going to explicitly compute the gradients and apply them via the `apply_gradients` function of the optimizer. In particular, `tfe.implicit_gradients` works like `tfe.gradients_function`, but automatically returns the gradients of all variables of our model:"
      ]
    },
    {
      "metadata": {
        "id": "HflpnsYI6ryG",
        "colab_type": "code",
        "colab": {
          "autoexec": {
            "startup": false,
            "wait_interval": 0
          }
        }
      },
      "cell_type": "code",
      "source": [
        "loss_grad = tfe.implicit_gradients(loss)"
      ],
      "execution_count": 0,
      "outputs": []
    },
    {
      "metadata": {
        "id": "4ff-YHPhInX_",
        "colab_type": "text"
      },
      "cell_type": "markdown",
      "source": [
        "Once again, another variant is the `implicit_value_and_gradients`, which returns both the value of the function and its gradients:"
      ]
    },
    {
      "metadata": {
        "id": "JJRXGWCLIvTw",
        "colab_type": "code",
        "colab": {
          "autoexec": {
            "startup": false,
            "wait_interval": 0
          }
        }
      },
      "cell_type": "code",
      "source": [
        "loss_and_grads = tfe.implicit_value_and_gradients(loss)"
      ],
      "execution_count": 0,
      "outputs": []
    },
    {
      "metadata": {
        "id": "J5shPzgc7Gam",
        "colab_type": "text"
      },
      "cell_type": "markdown",
      "source": [
        "Using the first syntax, the optimization cycle is now a trivial matter:"
      ]
    },
    {
      "metadata": {
        "id": "jojDeSP462_W",
        "colab_type": "code",
        "colab": {
          "autoexec": {
            "startup": false,
            "wait_interval": 0
          },
          "output_extras": [
            {
              "item_id": 3
            }
          ],
          "base_uri": "https://localhost:8080/",
          "height": 102
        },
        "outputId": "35ee74fe-0001-46b3-8fe9-318ea1d873a3",
        "executionInfo": {
          "status": "ok",
          "timestamp": 1519221299987,
          "user_tz": -60,
          "elapsed": 1396,
          "user": {
            "displayName": "Simone Scardapane",
            "photoUrl": "//lh6.googleusercontent.com/-ZK0nd0iCe7w/AAAAAAAAAAI/AAAAAAAAA_o/pNhWxdOsGTI/s50-c-k-no/photo.jpg",
            "userId": "115632300554726808471"
          }
        }
      },
      "cell_type": "code",
      "source": [
        "net = SingleHiddenLayerNetwork()\n",
        "opt = tf.train.AdamOptimizer(learning_rate=0.01)\n",
        "\n",
        "# Loop over the epochs\n",
        "for epoch in range(50):\n",
        "  \n",
        "  # For each epoch we shuffle the dataset\n",
        "  for (xb, yb) in tfe.Iterator(train_dataset.shuffle(1000).batch(32)):\n",
        "    opt.apply_gradients(loss_grad(net, xb, yb))\n",
        "    \n",
        "  # Training accuracy at the end of each tenth epoch\n",
        "  if epoch % 10 == 0:\n",
        "    print(\"Epoch %d: Loss on training set : %f\" %\n",
        "              (epoch, loss(net, X_train, y_train).numpy()))"
      ],
      "execution_count": 31,
      "outputs": [
        {
          "output_type": "stream",
          "text": [
            "Epoch 0: Loss on training set : 106.719792\n",
            "Epoch 10: Loss on training set : 41.383423\n",
            "Epoch 20: Loss on training set : 25.704682\n",
            "Epoch 30: Loss on training set : 16.612080\n",
            "Epoch 40: Loss on training set : 11.029074\n"
          ],
          "name": "stdout"
        }
      ]
    },
    {
      "metadata": {
        "id": "NJ44xWB59E5P",
        "colab_type": "text"
      },
      "cell_type": "markdown",
      "source": [
        "Note how, when compared to the classical TensorFlow low-level interface, the previous code tends to be more readable, and closely resembles what the code would have looked like had we only used NumPy."
      ]
    },
    {
      "metadata": {
        "id": "RBeBo-BEpZq4",
        "colab_type": "text"
      },
      "cell_type": "markdown",
      "source": [
        "In the latest release, the inner optimization can also be simplified using the standard `minimize` interface of the optimizer, by constructing a parameter-free anonymous function:\n",
        "\n"
      ]
    },
    {
      "metadata": {
        "id": "cDnBCnDqpz1u",
        "colab_type": "code",
        "colab": {
          "autoexec": {
            "startup": false,
            "wait_interval": 0
          }
        }
      },
      "cell_type": "code",
      "source": [
        "opt.minimize(lambda: loss(net, xb, yb))"
      ],
      "execution_count": 0,
      "outputs": []
    },
    {
      "metadata": {
        "id": "XecSJK4r9PD1",
        "colab_type": "text"
      },
      "cell_type": "markdown",
      "source": [
        "## Evaluating the model and plotting the results"
      ]
    },
    {
      "metadata": {
        "id": "5ix3nr8wqglP",
        "colab_type": "text"
      },
      "cell_type": "markdown",
      "source": [
        "### Computing and visualizing metrics"
      ]
    },
    {
      "metadata": {
        "id": "GFVome_Y9TBj",
        "colab_type": "text"
      },
      "cell_type": "markdown",
      "source": [
        "Two common debug tools in TensorFlow are the **summaries** and the **metrics**, which have a corresponding new implementation inside Eager. Starting from the latter, a set of pre-defined metrics can be found in the `tfe.metrics` module, which can be used in a standard object-oriented fashion:"
      ]
    },
    {
      "metadata": {
        "id": "K6NXRnzL8JG5",
        "colab_type": "code",
        "colab": {
          "autoexec": {
            "startup": false,
            "wait_interval": 0
          }
        }
      },
      "cell_type": "code",
      "source": [
        "accuracy = tfe.metrics.Accuracy()"
      ],
      "execution_count": 0,
      "outputs": []
    },
    {
      "metadata": {
        "id": "Wfo4i218-B7P",
        "colab_type": "text"
      },
      "cell_type": "markdown",
      "source": [
        "We can accumulate values inside the metric and print an average result as follows:"
      ]
    },
    {
      "metadata": {
        "id": "nQXhKqrJ8Yhq",
        "colab_type": "code",
        "colab": {
          "autoexec": {
            "startup": false,
            "wait_interval": 0
          },
          "output_extras": [
            {
              "item_id": 1
            }
          ],
          "base_uri": "https://localhost:8080/",
          "height": 34
        },
        "outputId": "dccc7614-e3cc-4d8f-8917-6f7905d0bf03",
        "executionInfo": {
          "status": "ok",
          "timestamp": 1519221574899,
          "user_tz": -60,
          "elapsed": 468,
          "user": {
            "displayName": "Simone Scardapane",
            "photoUrl": "//lh6.googleusercontent.com/-ZK0nd0iCe7w/AAAAAAAAAAI/AAAAAAAAA_o/pNhWxdOsGTI/s50-c-k-no/photo.jpg",
            "userId": "115632300554726808471"
          }
        }
      },
      "cell_type": "code",
      "source": [
        "accuracy(tf.argmax(net(tf.constant(X_test)), axis=1), tf.argmax(tf.constant(y_test), axis=1))\n",
        "print('Final test accuracy is: ', accuracy.result().numpy())"
      ],
      "execution_count": 34,
      "outputs": [
        {
          "output_type": "stream",
          "text": [
            "Final test accuracy is:  0.9473684210526315\n"
          ],
          "name": "stdout"
        }
      ]
    },
    {
      "metadata": {
        "id": "_n7Gx2FkZT_v",
        "colab_type": "text"
      },
      "cell_type": "markdown",
      "source": [
        "Let us rewrite the optimization code, this time by accumulating the training accuracy at each epoch:"
      ]
    },
    {
      "metadata": {
        "id": "_mokLkh-YYW9",
        "colab_type": "code",
        "colab": {
          "autoexec": {
            "startup": false,
            "wait_interval": 0
          }
        }
      },
      "cell_type": "code",
      "source": [
        "net = SingleHiddenLayerNetwork()\n",
        "opt = tf.train.AdamOptimizer(learning_rate=0.01)\n",
        "\n",
        "# Numpy array to keep track of the accuracy\n",
        "acc_history = np.zeros(50)\n",
        "\n",
        "# Loop over the epochs\n",
        "for epoch in range(50):\n",
        "  \n",
        "  # Initialize the metric\n",
        "  accuracy = tfe.metrics.Accuracy()\n",
        "  \n",
        "  # For each epoch we shuffle the dataset\n",
        "  for (xb, yb) in tfe.Iterator(train_dataset.shuffle(1000).batch(32)):\n",
        "    opt.apply_gradients(loss_grad(net, xb, yb))\n",
        "    \n",
        "    # Save the training accuracy on the batch\n",
        "    accuracy(tf.argmax(net(tf.constant(xb)), axis=1), tf.argmax(tf.constant(yb), axis=1))\n",
        "  \n",
        "  # Save the overall accuracy in our vector\n",
        "  acc_history[epoch] = accuracy.result().numpy()"
      ],
      "execution_count": 0,
      "outputs": []
    },
    {
      "metadata": {
        "id": "7IWWXM6Wcn-f",
        "colab_type": "text"
      },
      "cell_type": "markdown",
      "source": [
        "We can use Matplotlib to plot the resulting accuracy:"
      ]
    },
    {
      "metadata": {
        "id": "d4bmyy8TaURr",
        "colab_type": "code",
        "colab": {
          "autoexec": {
            "startup": false,
            "wait_interval": 0
          },
          "output_extras": [
            {
              "item_id": 1
            }
          ],
          "base_uri": "https://localhost:8080/",
          "height": 361
        },
        "outputId": "e8c56f2a-c9ff-4856-8c9a-a06aca8b7855",
        "executionInfo": {
          "status": "ok",
          "timestamp": 1519221596413,
          "user_tz": -60,
          "elapsed": 518,
          "user": {
            "displayName": "Simone Scardapane",
            "photoUrl": "//lh6.googleusercontent.com/-ZK0nd0iCe7w/AAAAAAAAAAI/AAAAAAAAA_o/pNhWxdOsGTI/s50-c-k-no/photo.jpg",
            "userId": "115632300554726808471"
          }
        }
      },
      "cell_type": "code",
      "source": [
        "import matplotlib.pyplot as plt\n",
        "plt.figure()\n",
        "plt.plot(acc_history)\n",
        "plt.xlabel('Epoch')\n",
        "plt.ylabel('Accuracy')\n",
        "plt.show()"
      ],
      "execution_count": 36,
      "outputs": [
        {
          "output_type": "display_data",
          "data": {
            "image/png": "[encoded data removed]",
            "text/plain": [
              "<matplotlib.figure.Figure at 0x7fcaae30af28>"
            ]
          },
          "metadata": {
            "tags": []
          }
        }
      ]
    },
    {
      "metadata": {
        "id": "jlZIDj8VqjRz",
        "colab_type": "text"
      },
      "cell_type": "markdown",
      "source": [
        "### Saving summaries on disk and working with the TensorBoard"
      ]
    },
    {
      "metadata": {
        "id": "8I-1KuYKdOZQ",
        "colab_type": "text"
      },
      "cell_type": "markdown",
      "source": [
        "Similarly, Eager comes with its own implementation of the summaries. In order to work with them, we first define a writer on disk:"
      ]
    },
    {
      "metadata": {
        "id": "6X1lEPLoNPu2",
        "colab_type": "code",
        "colab": {
          "autoexec": {
            "startup": false,
            "wait_interval": 0
          }
        }
      },
      "cell_type": "code",
      "source": [
        "writer = tf.contrib.summary.create_file_writer('tmp')"
      ],
      "execution_count": 0,
      "outputs": []
    },
    {
      "metadata": {
        "id": "kLhIAhX9NUN1",
        "colab_type": "text"
      },
      "cell_type": "markdown",
      "source": [
        "In order to save a summary, we need to select the writer as the default one, and tell TF that we want to save summaries everytime they are computed:"
      ]
    },
    {
      "metadata": {
        "id": "ocbhuGvPNXOz",
        "colab_type": "code",
        "colab": {
          "autoexec": {
            "startup": false,
            "wait_interval": 0
          }
        }
      },
      "cell_type": "code",
      "source": [
        "with writer.as_default():\n",
        "  with tf.contrib.summary.always_record_summaries():\n",
        "      tf.contrib.summary.scalar('scalar_value', 0.5)"
      ],
      "execution_count": 0,
      "outputs": []
    },
    {
      "metadata": {
        "id": "9US2mkrCqwwc",
        "colab_type": "text"
      },
      "cell_type": "markdown",
      "source": [
        "Alternatively, we can instruct TF to save summaries only every given number of steps:"
      ]
    },
    {
      "metadata": {
        "id": "zDCeCkRoeCHJ",
        "colab_type": "code",
        "colab": {
          "autoexec": {
            "startup": false,
            "wait_interval": 0
          }
        }
      },
      "cell_type": "code",
      "source": [
        "with writer.as_default():\n",
        "  with tf.contrib.summary.record_summaries_every_n_global_steps(5):\n",
        "      tf.contrib.summary.scalar('scalar_value', 0.5) # Will only save every 5 steps"
      ],
      "execution_count": 0,
      "outputs": []
    },
    {
      "metadata": {
        "id": "GHB-AjS-rGVP",
        "colab_type": "text"
      },
      "cell_type": "markdown",
      "source": [
        "The 'global step' is a variable inside TF that keeps track of the iterations of our optimization algorithm:"
      ]
    },
    {
      "metadata": {
        "id": "BlhQBB4krwfa",
        "colab_type": "code",
        "colab": {
          "autoexec": {
            "startup": false,
            "wait_interval": 0
          },
          "output_extras": [
            {
              "item_id": 1
            }
          ],
          "base_uri": "https://localhost:8080/",
          "height": 34
        },
        "outputId": "e1cba340-06f9-422d-91c9-c5ec6852762e",
        "executionInfo": {
          "status": "ok",
          "timestamp": 1519221950193,
          "user_tz": -60,
          "elapsed": 509,
          "user": {
            "displayName": "Simone Scardapane",
            "photoUrl": "//lh6.googleusercontent.com/-ZK0nd0iCe7w/AAAAAAAAAAI/AAAAAAAAA_o/pNhWxdOsGTI/s50-c-k-no/photo.jpg",
            "userId": "115632300554726808471"
          }
        }
      },
      "cell_type": "code",
      "source": [
        "tf.train.get_global_step()"
      ],
      "execution_count": 40,
      "outputs": [
        {
          "output_type": "execute_result",
          "data": {
            "text/plain": [
              "<tf.Variable 'global_step:0' shape=() dtype=int64, numpy=0>"
            ]
          },
          "metadata": {
            "tags": []
          },
          "execution_count": 40
        }
      ]
    },
    {
      "metadata": {
        "id": "vC48OlGGsDmH",
        "colab_type": "text"
      },
      "cell_type": "markdown",
      "source": [
        "Note that the variable is currently set to 0. If we want to update it correctly, we need to provide the global step during the optimization cycle:"
      ]
    },
    {
      "metadata": {
        "id": "ym4CkTUjsLCz",
        "colab_type": "code",
        "colab": {
          "autoexec": {
            "startup": false,
            "wait_interval": 0
          },
          "output_extras": [
            {
              "item_id": 1
            }
          ],
          "base_uri": "https://localhost:8080/",
          "height": 34
        },
        "outputId": "b5de141d-62bf-44b2-d1be-b1ad79400be4",
        "executionInfo": {
          "status": "ok",
          "timestamp": 1519222075794,
          "user_tz": -60,
          "elapsed": 519,
          "user": {
            "displayName": "Simone Scardapane",
            "photoUrl": "//lh6.googleusercontent.com/-ZK0nd0iCe7w/AAAAAAAAAAI/AAAAAAAAA_o/pNhWxdOsGTI/s50-c-k-no/photo.jpg",
            "userId": "115632300554726808471"
          }
        }
      },
      "cell_type": "code",
      "source": [
        "opt.apply_gradients(loss_grad(net, xb, yb), global_step=tf.train.get_or_create_global_step()) # Will apply gradients AND increase the step by one\n",
        "tf.train.get_global_step()"
      ],
      "execution_count": 41,
      "outputs": [
        {
          "output_type": "execute_result",
          "data": {
            "text/plain": [
              "<tf.Variable 'global_step:0' shape=() dtype=int64, numpy=1>"
            ]
          },
          "metadata": {
            "tags": []
          },
          "execution_count": 41
        }
      ]
    },
    {
      "metadata": {
        "id": "7Urz86nrsVXi",
        "colab_type": "text"
      },
      "cell_type": "markdown",
      "source": [
        "Alternatively, we can provide our own global step to the summary operation. This is particularly easy in eager mode because we can work with standard int64 values:"
      ]
    },
    {
      "metadata": {
        "id": "eKet69pxsfDw",
        "colab_type": "code",
        "colab": {
          "autoexec": {
            "startup": false,
            "wait_interval": 0
          }
        }
      },
      "cell_type": "code",
      "source": [
        "with writer.as_default():\n",
        "  with tf.contrib.summary.record_summaries_every_n_global_steps(5):\n",
        "      tf.contrib.summary.scalar('scalar_value', 0.5, step=4) # This will save the value on disk"
      ],
      "execution_count": 0,
      "outputs": []
    },
    {
      "metadata": {
        "id": "FVyM175UNRe8",
        "colab_type": "text"
      },
      "cell_type": "markdown",
      "source": [
        "In the following example, we extend again our optimization routine to save the loss value on disk at every iteration:"
      ]
    },
    {
      "metadata": {
        "id": "8DzgeRJQYc-F",
        "colab_type": "code",
        "colab": {
          "autoexec": {
            "startup": false,
            "wait_interval": 0
          }
        }
      },
      "cell_type": "code",
      "source": [
        "net = SingleHiddenLayerNetwork()\n",
        "opt = tf.train.AdamOptimizer(learning_rate=0.01)\n",
        "\n",
        "with writer.as_default():\n",
        "    with tf.contrib.summary.always_record_summaries():\n",
        "\n",
        "        # Loop over the epochs\n",
        "        for epoch in range(50):\n",
        "\n",
        "            # For each epoch we shuffle the dataset\n",
        "            for (xb, yb) in tfe.Iterator(train_dataset.shuffle(1000).batch(32)):\n",
        "                \n",
        "                tf.contrib.summary.scalar('loss_value', loss(net, xb,yb))\n",
        "                opt.minimize(lambda: loss(net, xb,yb), global_step=tf.train.get_or_create_global_step())"
      ],
      "execution_count": 0,
      "outputs": []
    },
    {
      "metadata": {
        "id": "9do0tqfrePJ9",
        "colab_type": "text"
      },
      "cell_type": "markdown",
      "source": [
        "Now launch the tensorboard to visualize the loss:"
      ]
    },
    {
      "metadata": {
        "id": "kdgUXXPueSKT",
        "colab_type": "code",
        "colab": {
          "autoexec": {
            "startup": false,
            "wait_interval": 0
          },
          "output_extras": [
            {
              "item_id": 3
            }
          ],
          "base_uri": "https://localhost:8080/",
          "height": 105
        },
        "outputId": "2cc49117-020f-45d8-e144-5bf46caf894c",
        "executionInfo": {
          "status": "ok",
          "timestamp": 1519213043159,
          "user_tz": -60,
          "elapsed": 17899,
          "user": {
            "displayName": "Simone Scardapane",
            "photoUrl": "//lh6.googleusercontent.com/-ZK0nd0iCe7w/AAAAAAAAAAI/AAAAAAAAA_o/pNhWxdOsGTI/s50-c-k-no/photo.jpg",
            "userId": "115632300554726808471"
          }
        }
      },
      "cell_type": "code",
      "source": [
        "!tensorboard --logdir=tmp"
      ],
      "execution_count": 21,
      "outputs": [
        {
          "output_type": "stream",
          "text": [
            "/usr/local/lib/python2.7/dist-packages/h5py/__init__.py:36: FutureWarning: Conversion of the second argument of issubdtype from `float` to `np.floating` is deprecated. In future, it will be treated as `np.float64 == np.dtype(float).type`.\r\n",
            "  from ._conv import register_converters as _register_converters\n",
            "TensorBoard 1.6.0 at http://eacb5bd1a82e:6006 (Press CTRL+C to quit)\n",
            "^C\n"
          ],
          "name": "stdout"
        }
      ]
    },
    {
      "metadata": {
        "id": "XrrWJP-2J-JQ",
        "colab_type": "text"
      },
      "cell_type": "markdown",
      "source": [
        "If you are running this notebook from a local machine, you can navigate to the address above to visualize the training details in the TensorBoard itself:"
      ]
    },
    {
      "metadata": {
        "id": "rKv8T0fTddL-",
        "colab_type": "text"
      },
      "cell_type": "markdown",
      "source": [
        "![alt text](https://iaml.it/screenshots/tensorboard.png)"
      ]
    },
    {
      "metadata": {
        "id": "C9PxnV3x_EJo",
        "colab_type": "text"
      },
      "cell_type": "markdown",
      "source": [
        "# Advanced features"
      ]
    },
    {
      "metadata": {
        "id": "rdTN7c_k_GsN",
        "colab_type": "text"
      },
      "cell_type": "markdown",
      "source": [
        "## Enabling GPU execution"
      ]
    },
    {
      "metadata": {
        "id": "QtlURQ4M_vQX",
        "colab_type": "text"
      },
      "cell_type": "markdown",
      "source": [
        "With Eager, computation on the GPU is not enabled by default (if a GPU is present). We can inspect if we have a GPU on the system easily:"
      ]
    },
    {
      "metadata": {
        "id": "3K3Qf5nn_FTX",
        "colab_type": "code",
        "colab": {
          "autoexec": {
            "startup": false,
            "wait_interval": 0
          },
          "output_extras": [
            {
              "item_id": 1
            }
          ],
          "base_uri": "https://localhost:8080/",
          "height": 34
        },
        "outputId": "6c1a1cec-d49d-4b91-f8b5-5f0b3948f716",
        "executionInfo": {
          "status": "ok",
          "timestamp": 1519222198812,
          "user_tz": -60,
          "elapsed": 526,
          "user": {
            "displayName": "Simone Scardapane",
            "photoUrl": "//lh6.googleusercontent.com/-ZK0nd0iCe7w/AAAAAAAAAAI/AAAAAAAAA_o/pNhWxdOsGTI/s50-c-k-no/photo.jpg",
            "userId": "115632300554726808471"
          }
        }
      },
      "cell_type": "code",
      "source": [
        "tfe.num_gpus()"
      ],
      "execution_count": 44,
      "outputs": [
        {
          "output_type": "execute_result",
          "data": {
            "text/plain": [
              "1"
            ]
          },
          "metadata": {
            "tags": []
          },
          "execution_count": 44
        }
      ]
    },
    {
      "metadata": {
        "id": "VGGNOsfTAgky",
        "colab_type": "text"
      },
      "cell_type": "markdown",
      "source": [
        "In order to enable the GPU, we can specify a device explicitly for each operation that we want to run on that device:"
      ]
    },
    {
      "metadata": {
        "id": "7OOl75ww_F6h",
        "colab_type": "code",
        "colab": {
          "autoexec": {
            "startup": false,
            "wait_interval": 0
          }
        }
      },
      "cell_type": "code",
      "source": [
        "with tf.device(\"/gpu:0\"):\n",
        "  net(X_train[0:1, :])"
      ],
      "execution_count": 0,
      "outputs": []
    },
    {
      "metadata": {
        "id": "Az0i2ydGBBcS",
        "colab_type": "text"
      },
      "cell_type": "markdown",
      "source": [
        "Alternatively, we can move the data to the GPU before running the computation:"
      ]
    },
    {
      "metadata": {
        "id": "e3Ce7zhOA8DG",
        "colab_type": "code",
        "colab": {
          "autoexec": {
            "startup": false,
            "wait_interval": 0
          },
          "output_extras": [
            {
              "item_id": 1
            }
          ],
          "base_uri": "https://localhost:8080/",
          "height": 54
        },
        "outputId": "724596d6-bb45-4b1c-e5d2-a25e1369d720",
        "executionInfo": {
          "status": "ok",
          "timestamp": 1519222839412,
          "user_tz": -60,
          "elapsed": 594,
          "user": {
            "displayName": "Simone Scardapane",
            "photoUrl": "//lh6.googleusercontent.com/-ZK0nd0iCe7w/AAAAAAAAAAI/AAAAAAAAA_o/pNhWxdOsGTI/s50-c-k-no/photo.jpg",
            "userId": "115632300554726808471"
          }
        }
      },
      "cell_type": "code",
      "source": [
        "net(tf.constant(X_train[0:1, :]).gpu())"
      ],
      "execution_count": 60,
      "outputs": [
        {
          "output_type": "execute_result",
          "data": {
            "text/plain": [
              "<tf.Tensor: id=78996, shape=(1, 3), dtype=float64, numpy=array([[-1.14483888,  0.18914156,  0.74425629]])>"
            ]
          },
          "metadata": {
            "tags": []
          },
          "execution_count": 60
        }
      ]
    },
    {
      "metadata": {
        "id": "kcLGEpoXUEWk",
        "colab_type": "text"
      },
      "cell_type": "markdown",
      "source": [
        "Given a variable `x` on the GPU, we can perform the inverse operation similarly:\n",
        "\n",
        "\n",
        "```python\n",
        "x = x.cpu()\n",
        "```\n",
        "\n"
      ]
    },
    {
      "metadata": {
        "id": "b_I-_yQnB_Cw",
        "colab_type": "text"
      },
      "cell_type": "markdown",
      "source": [
        "## Saving and reloading"
      ]
    },
    {
      "metadata": {
        "id": "eOUXvR-ZCDUQ",
        "colab_type": "text"
      },
      "cell_type": "markdown",
      "source": [
        "Eager provides a simple interface for saving variables on disk:"
      ]
    },
    {
      "metadata": {
        "id": "xet5_u5hCAoD",
        "colab_type": "code",
        "colab": {
          "autoexec": {
            "startup": false,
            "wait_interval": 0
          },
          "output_extras": [
            {
              "item_id": 1
            }
          ],
          "base_uri": "https://localhost:8080/",
          "height": 34
        },
        "outputId": "0fbaee46-8924-436b-f6c3-a798473603f1",
        "executionInfo": {
          "status": "ok",
          "timestamp": 1519222856429,
          "user_tz": -60,
          "elapsed": 525,
          "user": {
            "displayName": "Simone Scardapane",
            "photoUrl": "//lh6.googleusercontent.com/-ZK0nd0iCe7w/AAAAAAAAAAI/AAAAAAAAA_o/pNhWxdOsGTI/s50-c-k-no/photo.jpg",
            "userId": "115632300554726808471"
          }
        }
      },
      "cell_type": "code",
      "source": [
        "saver = tfe.Saver([W])\n",
        "saver.save('tmp/')\n",
        "saver.restore('tmp/')"
      ],
      "execution_count": 61,
      "outputs": [
        {
          "output_type": "stream",
          "text": [
            "INFO:tensorflow:Restoring parameters from tmp/\n"
          ],
          "name": "stdout"
        }
      ]
    },
    {
      "metadata": {
        "id": "EOkoabdJCmNo",
        "colab_type": "text"
      },
      "cell_type": "markdown",
      "source": [
        "In order to save a comprehensive snapshot, we can save all variables of the model together with the optimizer's state, e.g.:"
      ]
    },
    {
      "metadata": {
        "id": "Xfe2oTN7CUdM",
        "colab_type": "code",
        "colab": {
          "autoexec": {
            "startup": false,
            "wait_interval": 0
          }
        }
      },
      "cell_type": "code",
      "source": [
        "all_variables = (net.variables + opt.variables())\n",
        "tfe.Saver(all_variables).save('tmp/')"
      ],
      "execution_count": 0,
      "outputs": []
    },
    {
      "metadata": {
        "id": "wNpMQI2DvTiG",
        "colab_type": "text"
      },
      "cell_type": "markdown",
      "source": [
        "We modify one again our training routine, this time by saving all variables at the end of every epoch:"
      ]
    },
    {
      "metadata": {
        "id": "qtTsuSvveI0X",
        "colab_type": "code",
        "colab": {
          "autoexec": {
            "startup": false,
            "wait_interval": 0
          }
        }
      },
      "cell_type": "code",
      "source": [
        "net = SingleHiddenLayerNetwork()\n",
        "opt = tf.train.AdamOptimizer(learning_rate=0.01)\n",
        "\n",
        "for epoch in range(50):\n",
        "  for (xb, yb) in tfe.Iterator(train_dataset.shuffle(1000).batch(32)):\n",
        "    opt.minimize(lambda: loss(net, xb,yb))\n",
        "   \n",
        "  # Get a list of all variables\n",
        "  all_variables = (net.variables + opt.variables())\n",
        "  # Save (by specifying the epoch)\n",
        "  tfe.Saver(all_variables).save('./tmp_folder', global_step=epoch)"
      ],
      "execution_count": 0,
      "outputs": []
    },
    {
      "metadata": {
        "id": "Rw9R1zHYvkM0",
        "colab_type": "text"
      },
      "cell_type": "markdown",
      "source": [
        "Eager provides a simple functionality to restore the latest checkpoint from the disk:"
      ]
    },
    {
      "metadata": {
        "id": "UJ3VAquGedDa",
        "colab_type": "code",
        "colab": {
          "autoexec": {
            "startup": false,
            "wait_interval": 0
          },
          "output_extras": [
            {
              "item_id": 1
            }
          ],
          "base_uri": "https://localhost:8080/",
          "height": 34
        },
        "outputId": "8e0ae296-50cf-4203-f934-373b075599a2",
        "executionInfo": {
          "status": "ok",
          "timestamp": 1519222978552,
          "user_tz": -60,
          "elapsed": 507,
          "user": {
            "displayName": "Simone Scardapane",
            "photoUrl": "//lh6.googleusercontent.com/-ZK0nd0iCe7w/AAAAAAAAAAI/AAAAAAAAA_o/pNhWxdOsGTI/s50-c-k-no/photo.jpg",
            "userId": "115632300554726808471"
          }
        }
      },
      "cell_type": "code",
      "source": [
        "with tfe.restore_variables_on_create(tf.train.latest_checkpoint('./tmp_folder')):\n",
        "  print(net(X_train[0:1, :])) # Will have the latest weights saved on disk"
      ],
      "execution_count": 65,
      "outputs": [
        {
          "output_type": "stream",
          "text": [
            "tf.Tensor([[ 5.92546095  1.61881532 -4.28004004]], shape=(1, 3), dtype=float64)\n"
          ],
          "name": "stdout"
        }
      ]
    },
    {
      "metadata": {
        "id": "fVtZn99KDDSG",
        "colab_type": "text"
      },
      "cell_type": "markdown",
      "source": [
        "# Final remarks"
      ]
    },
    {
      "metadata": {
        "id": "0jxXEvJEDGhN",
        "colab_type": "text"
      },
      "cell_type": "markdown",
      "source": [
        "In this tutorial, we have seen that developing at a low-level with the new eager execution can be easier (and more simple to debug) that with the standard low-level interface. Since the module is still experimental, some advanced features (such as distributed training of graphs) are not yet available when running in eager mode, and the interface is still prone to minor changes. We refer to the [official guide](https://github.com/tensorflow/tensorflow/blob/master/tensorflow/contrib/eager/python/g3doc/guide.md) for more information on all these aspects."
      ]
    }
  ]
}